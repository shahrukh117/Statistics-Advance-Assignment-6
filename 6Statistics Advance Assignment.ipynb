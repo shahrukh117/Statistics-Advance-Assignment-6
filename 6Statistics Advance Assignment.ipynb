{
 "cells": [
  {
   "cell_type": "markdown",
   "id": "f2e4c77f-4651-4cde-a2ff-4906af43ee62",
   "metadata": {},
   "source": [
    "### Q1. Explain the assumptions required to use ANOVA and provide examples of violations that could impact the validity of the results."
   ]
  },
  {
   "cell_type": "markdown",
   "id": "e7ef118f-b89f-4f5f-a0ee-1eeefa621c70",
   "metadata": {},
   "source": [
    "ANOVA (Analysis of Variance) is a statistical technique used to compare means between three or more groups. To ensure the validity of ANOVA results, certain assumptions must be met. These assumptions include:\n",
    "\n",
    "1. **Independence**: Observations within each group must be independent of each other. This means that the data points in one group should not be influenced by or related to the data points in another group.\n",
    "\n",
    "2. **Normality**: The data within each group should be approximately normally distributed. This assumption is about the distribution of residuals (the differences between observed and predicted values). While ANOVA is robust to violations of normality when sample sizes are large, it becomes more critical for smaller sample sizes.\n",
    "\n",
    "3. **Homogeneity of Variances (Homoscedasticity)**: The variances of the populations being compared should be approximately equal. In other words, the spread of data points within each group should be similar across all groups. Violations of this assumption can lead to unreliable results, especially when sample sizes are unequal.\n",
    "\n",
    "Examples of violations of these assumptions that could impact the validity of ANOVA results include:\n",
    "\n",
    "1. **Non-independence**: In a study examining the effects of different teaching methods on student performance, if students within the same classroom are assigned to different teaching methods, their scores may not be independent because they are influenced by the same classroom environment.\n",
    "\n",
    "2. **Non-normality**: Suppose you're conducting an ANOVA to compare the effectiveness of three pain relief medications. If the distribution of pain scores for one of the medications is heavily skewed, it may violate the normality assumption. For example, if the distribution is highly skewed to the right, with many participants reporting very low pain scores and few reporting high pain scores, the assumption of normality may not hold.\n",
    "\n",
    "3. **Heterogeneity of Variances**: Consider a study comparing the yield of three different crop varieties. If one crop variety consistently produces highly variable yields across different fields, while the other varieties have more consistent yields, this violates the assumption of homogeneity of variances. The ANOVA results may be unreliable in this case, as the group with higher variance may dominate the overall variability observed."
   ]
  },
  {
   "cell_type": "markdown",
   "id": "331a0a8d-02ca-4e70-9e65-44df38fb4cd6",
   "metadata": {},
   "source": [
    "### Q2. What are the three types of ANOVA, and in what situations would each be used?"
   ]
  },
  {
   "cell_type": "markdown",
   "id": "817dc930-92df-42e0-ba9a-d0959ad7cb52",
   "metadata": {},
   "source": [
    "The three types of ANOVA are:\n",
    "\n",
    "1. One-Way ANOVA:\n",
    "   - One-way ANOVA is used when you have one independent variable (factor) with three or more levels (groups) and one continuous dependent variable.\n",
    "   - It is used to determine whether there are any statistically significant differences between the means of the groups.\n",
    "   - For example, it could be used to compare the effectiveness of three different types of fertilizer on plant growth.\n",
    "\n",
    "2. Two-Way ANOVA:\n",
    "   - Two-way ANOVA is used when you have two independent variables (factors) and one continuous dependent variable.\n",
    "   - It is used to analyze the interaction effects between the two independent variables as well as their individual effects on the dependent variable.\n",
    "   - For example, it could be used to study the effects of both genotype and treatment on the growth of plants.\n",
    "\n",
    "3. MANOVA (Multivariate Analysis of Variance):\n",
    "   - MANOVA is used when you have two or more dependent variables and one or more independent variables.\n",
    "   - It extends the one-way or two-way ANOVA to multiple dependent variables.\n",
    "   - It is used to determine whether there are any overall differences between the groups across all dependent variables.\n",
    "   - For example, it could be used to examine the effects of different teaching methods on students' performance across multiple subjects."
   ]
  },
  {
   "cell_type": "markdown",
   "id": "d771b8e0-ce21-443d-a8a9-a57b5c9b5a75",
   "metadata": {},
   "source": [
    "### Q3. What is the partitioning of variance in ANOVA, and why is it important to understand this concept?"
   ]
  },
  {
   "cell_type": "markdown",
   "id": "d5d29d0a-be45-4f15-a49a-cdb6aea3f9d5",
   "metadata": {},
   "source": [
    "In Analysis of Variance (ANOVA), the partitioning of variance refers to the process of breaking down the total variance observed in the data into different components, each of which represents the variance attributable to different sources or factors. Understanding this concept is crucial because it provides insights into how much of the total variation in the data can be explained by the factors being studied.\n",
    "\n",
    "The partitioning of variance typically involves three main components:\n",
    "\n",
    "1. Between-Group Variance:\n",
    "   - This component represents the variation in the data that is attributable to differences between the group means.\n",
    "   - It reflects the variation in the dependent variable that is explained by the independent variable(s) or factors being studied.\n",
    "   - In ANOVA, this variance is compared to the within-group variance to determine if the group means are significantly different from each other.\n",
    "\n",
    "2. Within-Group Variance (or Error Variance):\n",
    "   - This component represents the variation in the data that is not explained by the independent variable(s) or factors being studied.\n",
    "   - It reflects the random variability or \"noise\" in the data that cannot be attributed to the effects of the independent variable(s).\n",
    "   - It is also known as error variance because it includes any random error or measurement error present in the data.\n",
    "\n",
    "3. Total Variance:\n",
    "   - This component represents the overall variation in the data, regardless of the groupings or factors being studied.\n",
    "   - It is the sum of the between-group variance and the within-group variance.\n",
    "   - It provides a baseline against which the explained variance (between-group variance) can be compared to assess the significance of the factors being studied.\n",
    "\n",
    "Understanding the partitioning of variance is important for several reasons:\n",
    "\n",
    "- It helps researchers assess the impact of the independent variable(s) on the dependent variable by quantifying how much of the total variance can be attributed to these factors.\n",
    "- It provides a basis for hypothesis testing in ANOVA, where the goal is to determine whether the differences between group means are statistically significant.\n",
    "- It allows researchers to identify sources of variation in the data and potentially control for them in future studies.\n",
    "- It aids in the interpretation of ANOVA results by clarifying the relative importance of different factors or variables in explaining the variation observed in the data."
   ]
  },
  {
   "cell_type": "markdown",
   "id": "7f3819eb-4d62-4005-b5e0-e6d756bd39c7",
   "metadata": {},
   "source": [
    "### Q4. How would you calculate the total sum of squares (SST), explained sum of squares (SSE), and residual sum of squares (SSR) in a one-way ANOVA using Python?"
   ]
  },
  {
   "cell_type": "code",
   "execution_count": 1,
   "id": "5e78f686-b3ad-4d43-bbb2-d8969f67a3c3",
   "metadata": {},
   "outputs": [
    {
     "name": "stdout",
     "output_type": "stream",
     "text": [
      "Total Sum of Squares (SST): 229.6\n",
      "Explained Sum of Squares (SSE): 7.6\n",
      "Residual Sum of Squares (SSR): 222.0\n"
     ]
    }
   ],
   "source": [
    "import numpy as np\n",
    "from scipy import stats\n",
    "\n",
    "# Sample data (replace this with your own data)\n",
    "group1 = np.array([10, 12, 15, 18, 20])\n",
    "group2 = np.array([8, 11, 14, 16, 19])\n",
    "group3 = np.array([9, 13, 16, 17, 21])\n",
    "\n",
    "# Combine data from all groups\n",
    "all_data = np.concatenate([group1, group2, group3])\n",
    "\n",
    "# Compute the overall mean\n",
    "overall_mean = np.mean(all_data)\n",
    "\n",
    "# Compute the total sum of squares (SST)\n",
    "SST = np.sum((all_data - overall_mean)**2)\n",
    "\n",
    "# Compute the group means\n",
    "group_means = [np.mean(group) for group in [group1, group2, group3]]\n",
    "\n",
    "# Compute the explained sum of squares (SSE)\n",
    "SSE = np.sum([len(group) * (mean - overall_mean)**2 for group, mean in zip([group1, group2, group3], group_means)])\n",
    "\n",
    "# Compute the residual sum of squares (SSR)\n",
    "SSR = SST - SSE\n",
    "\n",
    "print(\"Total Sum of Squares (SST):\", SST)\n",
    "print(\"Explained Sum of Squares (SSE):\", SSE)\n",
    "print(\"Residual Sum of Squares (SSR):\", SSR)\n"
   ]
  },
  {
   "cell_type": "markdown",
   "id": "508964f8-eb11-4b74-9b88-6bb46ca86979",
   "metadata": {},
   "source": [
    "### Q5. In a two-way ANOVA, how would you calculate the main effects and interaction effects using Python?"
   ]
  },
  {
   "cell_type": "code",
   "execution_count": 2,
   "id": "9bfab2d9-7aa3-4ece-84b6-6ed927557ae5",
   "metadata": {},
   "outputs": [
    {
     "data": {
      "text/html": [
       "<div>\n",
       "<style scoped>\n",
       "    .dataframe tbody tr th:only-of-type {\n",
       "        vertical-align: middle;\n",
       "    }\n",
       "\n",
       "    .dataframe tbody tr th {\n",
       "        vertical-align: top;\n",
       "    }\n",
       "\n",
       "    .dataframe thead th {\n",
       "        text-align: right;\n",
       "    }\n",
       "</style>\n",
       "<table border=\"1\" class=\"dataframe\">\n",
       "  <thead>\n",
       "    <tr style=\"text-align: right;\">\n",
       "      <th></th>\n",
       "      <th>water</th>\n",
       "      <th>sun</th>\n",
       "      <th>height</th>\n",
       "    </tr>\n",
       "  </thead>\n",
       "  <tbody>\n",
       "    <tr>\n",
       "      <th>0</th>\n",
       "      <td>daily</td>\n",
       "      <td>low</td>\n",
       "      <td>6</td>\n",
       "    </tr>\n",
       "    <tr>\n",
       "      <th>1</th>\n",
       "      <td>daily</td>\n",
       "      <td>low</td>\n",
       "      <td>6</td>\n",
       "    </tr>\n",
       "    <tr>\n",
       "      <th>2</th>\n",
       "      <td>daily</td>\n",
       "      <td>low</td>\n",
       "      <td>6</td>\n",
       "    </tr>\n",
       "    <tr>\n",
       "      <th>3</th>\n",
       "      <td>daily</td>\n",
       "      <td>low</td>\n",
       "      <td>5</td>\n",
       "    </tr>\n",
       "    <tr>\n",
       "      <th>4</th>\n",
       "      <td>daily</td>\n",
       "      <td>low</td>\n",
       "      <td>6</td>\n",
       "    </tr>\n",
       "    <tr>\n",
       "      <th>5</th>\n",
       "      <td>daily</td>\n",
       "      <td>med</td>\n",
       "      <td>5</td>\n",
       "    </tr>\n",
       "    <tr>\n",
       "      <th>6</th>\n",
       "      <td>daily</td>\n",
       "      <td>med</td>\n",
       "      <td>5</td>\n",
       "    </tr>\n",
       "    <tr>\n",
       "      <th>7</th>\n",
       "      <td>daily</td>\n",
       "      <td>med</td>\n",
       "      <td>6</td>\n",
       "    </tr>\n",
       "    <tr>\n",
       "      <th>8</th>\n",
       "      <td>daily</td>\n",
       "      <td>med</td>\n",
       "      <td>4</td>\n",
       "    </tr>\n",
       "    <tr>\n",
       "      <th>9</th>\n",
       "      <td>daily</td>\n",
       "      <td>med</td>\n",
       "      <td>5</td>\n",
       "    </tr>\n",
       "  </tbody>\n",
       "</table>\n",
       "</div>"
      ],
      "text/plain": [
       "   water  sun  height\n",
       "0  daily  low       6\n",
       "1  daily  low       6\n",
       "2  daily  low       6\n",
       "3  daily  low       5\n",
       "4  daily  low       6\n",
       "5  daily  med       5\n",
       "6  daily  med       5\n",
       "7  daily  med       6\n",
       "8  daily  med       4\n",
       "9  daily  med       5"
      ]
     },
     "execution_count": 2,
     "metadata": {},
     "output_type": "execute_result"
    }
   ],
   "source": [
    "import numpy as np\n",
    "import pandas as pd\n",
    "\n",
    "#create data\n",
    "df = pd.DataFrame({'water': np.repeat(['daily', 'weekly'], 15),\n",
    "                   'sun': np.tile(np.repeat(['low', 'med', 'high'], 5), 2),\n",
    "                   'height': [6, 6, 6, 5, 6, 5, 5, 6, 4, 5,\n",
    "                              6, 6, 7, 8, 7, 3, 4, 4, 4, 5,\n",
    "                              4, 4, 4, 4, 4, 5, 6, 6, 7, 8]})\n",
    "\n",
    "#view first ten rows of data \n",
    "df[:10]"
   ]
  },
  {
   "cell_type": "code",
   "execution_count": 3,
   "id": "f9d51277-4da3-4a5d-864f-5eeb4ceb37d1",
   "metadata": {},
   "outputs": [
    {
     "data": {
      "text/html": [
       "<div>\n",
       "<style scoped>\n",
       "    .dataframe tbody tr th:only-of-type {\n",
       "        vertical-align: middle;\n",
       "    }\n",
       "\n",
       "    .dataframe tbody tr th {\n",
       "        vertical-align: top;\n",
       "    }\n",
       "\n",
       "    .dataframe thead th {\n",
       "        text-align: right;\n",
       "    }\n",
       "</style>\n",
       "<table border=\"1\" class=\"dataframe\">\n",
       "  <thead>\n",
       "    <tr style=\"text-align: right;\">\n",
       "      <th></th>\n",
       "      <th>sum_sq</th>\n",
       "      <th>df</th>\n",
       "      <th>F</th>\n",
       "      <th>PR(&gt;F)</th>\n",
       "    </tr>\n",
       "  </thead>\n",
       "  <tbody>\n",
       "    <tr>\n",
       "      <th>C(water)</th>\n",
       "      <td>8.533333</td>\n",
       "      <td>1.0</td>\n",
       "      <td>16.0000</td>\n",
       "      <td>0.000527</td>\n",
       "    </tr>\n",
       "    <tr>\n",
       "      <th>C(sun)</th>\n",
       "      <td>24.866667</td>\n",
       "      <td>2.0</td>\n",
       "      <td>23.3125</td>\n",
       "      <td>0.000002</td>\n",
       "    </tr>\n",
       "    <tr>\n",
       "      <th>C(water):C(sun)</th>\n",
       "      <td>2.466667</td>\n",
       "      <td>2.0</td>\n",
       "      <td>2.3125</td>\n",
       "      <td>0.120667</td>\n",
       "    </tr>\n",
       "    <tr>\n",
       "      <th>Residual</th>\n",
       "      <td>12.800000</td>\n",
       "      <td>24.0</td>\n",
       "      <td>NaN</td>\n",
       "      <td>NaN</td>\n",
       "    </tr>\n",
       "  </tbody>\n",
       "</table>\n",
       "</div>"
      ],
      "text/plain": [
       "                    sum_sq    df        F    PR(>F)\n",
       "C(water)          8.533333   1.0  16.0000  0.000527\n",
       "C(sun)           24.866667   2.0  23.3125  0.000002\n",
       "C(water):C(sun)   2.466667   2.0   2.3125  0.120667\n",
       "Residual         12.800000  24.0      NaN       NaN"
      ]
     },
     "execution_count": 3,
     "metadata": {},
     "output_type": "execute_result"
    }
   ],
   "source": [
    "import statsmodels.api as sm\n",
    "from statsmodels.formula.api import ols\n",
    "\n",
    "#perform two-way ANOVA\n",
    "model = ols('height ~ C(water) + C(sun) + C(water):C(sun)', data=df).fit()\n",
    "sm.stats.anova_lm(model, typ=2)"
   ]
  },
  {
   "cell_type": "markdown",
   "id": "3c27707f-0f5a-4848-aabc-685de994d954",
   "metadata": {},
   "source": [
    "### Q6. Suppose you conducted a one-way ANOVA and obtained an F-statistic of 5.23 and a p-value of 0.02. What can you conclude about the differences between the groups, and how would you interpret these results?"
   ]
  },
  {
   "cell_type": "markdown",
   "id": "f93639e8-92de-4e75-a05f-9c6065a0f9e9",
   "metadata": {},
   "source": [
    "If we did a one-way ANOVA with F=5.23 and p=0.02, it means there's a significant difference between groups. This implies that at least one pair of group means is different. To find which pairs, you need to do additional tests like Tukey's or Dunnett's."
   ]
  },
  {
   "cell_type": "markdown",
   "id": "3d7f100d-6251-4d2c-8d9b-3bf9b1314f2e",
   "metadata": {},
   "source": [
    "### Q7. In a repeated measures ANOVA, how would you handle missing data, and what are the potential consequences of using different methods to handle missing data?"
   ]
  },
  {
   "cell_type": "markdown",
   "id": "eaffc5e3-df66-4399-9f7e-f96d476e8242",
   "metadata": {},
   "source": [
    "Handling missing data in a repeated measures ANOVA requires careful consideration to maintain the validity of the analysis. There are several methods to handle missing data in this context, each with its own potential consequences:\n",
    "\n",
    "1. **Complete Case Analysis (CCA)**:\n",
    "   - In CCA, cases with missing data on any variable are excluded from the analysis.\n",
    "   - Pros: Simple to implement.\n",
    "   - Cons: Reduces sample size and potentially introduces bias if missing data are not completely random. Also, it may reduce statistical power.\n",
    "\n",
    "2. **Mean Imputation**:\n",
    "   - Missing values are replaced with the mean of observed values for that variable.\n",
    "   - Pros: Easy to implement and maintains the sample size.\n",
    "   - Cons: Underestimates standard errors, distorts the distribution of the variable, and reduces variability, potentially leading to biased results.\n",
    "\n",
    "3. **Last Observation Carried Forward (LOCF)**:\n",
    "   - Missing values are replaced with the value of the last observed measurement.\n",
    "   - Pros: Easy to implement and maintains the sample size.\n",
    "   - Cons: Assumes that the last observed value is an accurate representation of the missing value, which may not always be true. Can distort longitudinal trends and underestimate variability.\n",
    "\n",
    "4. **Multiple Imputation**:\n",
    "   - Missing values are imputed multiple times based on a specified model, creating several complete datasets. Analyses are performed on each dataset, and results are combined.\n",
    "   - Pros: Retains variability, handles missing data uncertainty, and provides more accurate standard errors and parameter estimates.\n",
    "   - Cons: More computationally intensive and requires assumptions about the distribution of missing data. Results may vary depending on the imputation model chosen.\n",
    "\n",
    "5. **Maximum Likelihood Estimation (MLE)**:\n",
    "   - Missing data are treated as parameters to be estimated along with other model parameters, using likelihood-based methods.\n",
    "   - Pros: Provides unbiased parameter estimates under the assumption that data are missing at random (MAR).\n",
    "   - Cons: Requires sophisticated statistical software and may be sensitive to violations of the MAR assumption.\n",
    "\n",
    "6. **Pattern-Mixture Models**:\n",
    "   - Models are specified for different patterns of missingness, allowing for separate estimation of parameters for each pattern.\n",
    "   - Pros: Allows for a more nuanced understanding of missing data mechanisms.\n",
    "   - Cons: Requires strong assumptions about the missing data mechanism and can be complex to implement.\n",
    "\n",
    "The choice of method should be based on the characteristics of the missing data, the assumptions that can be reasonably made about the missingness mechanism, and the goals of the analysis. It's essential to conduct sensitivity analyses to assess the robustness of results to different missing data handling approaches. Additionally, reporting the method used and potential limitations introduced by missing data handling is crucial for transparency and reproducibility."
   ]
  },
  {
   "cell_type": "markdown",
   "id": "008be7ff-eb1b-4d6e-9d3b-6e89179c4475",
   "metadata": {},
   "source": [
    "### Q8. What are some common post-hoc tests used after ANOVA, and when would you use each one? Provide an example of a situation where a post-hoc test might be necessary."
   ]
  },
  {
   "cell_type": "markdown",
   "id": "a1c76eb1-a6a2-484f-87aa-e14922a9de24",
   "metadata": {},
   "source": [
    " After conducting an analysis of variance (ANOVA) and finding a significant difference among the means of three or more groups, post-hoc tests are often conducted to determine which specific group differences are significant. Here are some common post-hoc tests and when to use each one:\n",
    "\n",
    "1. **Tukey's Honestly Significant Difference (HSD)**:\n",
    "   - Use: Tukey's HSD is appropriate when you have equal sample sizes and want to perform pairwise comparisons between all possible pairs of group means.\n",
    "   - Example: After conducting a one-way ANOVA to compare the mean scores of students from three different schools on a standardized test, Tukey's HSD can be used to determine which pairs of schools have significantly different mean scores.\n",
    "\n",
    "2. **Bonferroni Correction**:\n",
    "   - Use: Bonferroni correction is useful when performing multiple pairwise comparisons, especially when sample sizes are unequal.\n",
    "   - Example: If you conducted multiple t-tests to compare the means of several treatment groups with a control group, you might use Bonferroni correction to adjust the significance level for each comparison to maintain an overall significance level.\n",
    "\n",
    "3. **Sidak Correction**:\n",
    "   - Use: Similar to Bonferroni correction, Sidak correction adjusts the significance level for multiple comparisons but can be less conservative.\n",
    "   - Example: Suppose you're comparing the mean effectiveness of three different advertising strategies on sales. After finding a significant difference with ANOVA, you could use Sidak correction for pairwise comparisons to determine which strategies differ significantly from each other.\n",
    "\n",
    "4. **Dunnett's Test**:\n",
    "   - Use: Dunnett's test is appropriate when comparing multiple treatment groups to a single control group.\n",
    "   - Example: After conducting an ANOVA to compare the mean weights of rats subjected to different diets, with one group receiving a standard diet as the control, Dunnett's test can be used to compare the mean weights of rats on experimental diets with the control group.\n",
    "\n",
    "5. **Scheffé Test**:\n",
    "   - Use: Scheffé test is a conservative post-hoc test that can be used when sample sizes are unequal and group variances differ.\n",
    "   - Example: If you're comparing the mean scores of students from different grade levels on a standardized test and you suspect that the variances of scores might vary between grade levels, you might use Scheffé test for pairwise comparisons.\n",
    "\n",
    "The choice of post-hoc test depends on the specific research question, the nature of the data, and the assumptions underlying the analysis. Post-hoc tests help to identify significant group differences after detecting an overall significant effect in ANOVA, thereby providing more detailed insights into the relationships between variables."
   ]
  },
  {
   "cell_type": "markdown",
   "id": "f2f78f62-ef73-43f0-b7ba-8212867829f8",
   "metadata": {},
   "source": [
    "### Q9. A researcher wants to compare the mean weight loss of three diets: A, B, and C. They collect data from 50 participants who were randomly assigned to one of the diets. Conduct a one-way ANOVA using Python to determine if there are any significant differences between the mean weight loss of the three diets. Report the F-statistic and p-value, and interpret the results."
   ]
  },
  {
   "cell_type": "code",
   "execution_count": 5,
   "id": "41cc5048-9eff-4107-a80b-1888e3d8878c",
   "metadata": {},
   "outputs": [
    {
     "name": "stdout",
     "output_type": "stream",
     "text": [
      "F-statistic: 3.2234332425068124\n",
      "p-value: 0.07577951993591635\n",
      "There is not sufficient evidence (p >= 0.05) to conclude a significant difference between the mean weight loss of the three diets.\n"
     ]
    }
   ],
   "source": [
    "import scipy.stats as stats\n",
    "\n",
    "# Sample weight loss data (replace with your actual data)\n",
    "diet_A = [2.5, 3.1, 2.8, 1.9, 2.2]\n",
    "diet_B = [3.0, 2.7, 3.5, 2.4, 1.8]\n",
    "diet_C = [1.7, 2.1, 2.3, 1.5, 2.0]\n",
    "\n",
    "# Combine data into groups for ANOVA\n",
    "data = [diet_A, diet_B, diet_C]\n",
    "\n",
    "# Perform ANOVA \n",
    "f_statistic, p_value = stats.f_oneway(*data)\n",
    "\n",
    "# Print results\n",
    "print(\"F-statistic:\", f_statistic)\n",
    "print(\"p-value:\", p_value)\n",
    "\n",
    "# Interpretation\n",
    "if p_value < 0.05:\n",
    "    print(\"There is a statistically significant difference (p < 0.05) between the mean weight loss of the three diets.\")\n",
    "else:\n",
    "    print(\"There is not sufficient evidence (p >= 0.05) to conclude a significant difference between the mean weight loss of the three diets.\")\n"
   ]
  },
  {
   "cell_type": "markdown",
   "id": "7e24666a-54a8-4eb9-80da-7a90e0fb1ad2",
   "metadata": {},
   "source": [
    "### Q10. A company wants to know if there are any significant differences in the average time it takes to complete a task using three different software programs: Program A, Program B, and Program C. They randomly assign 30 employees to one of the programs and record the time it takes each employee to complete the task. Conduct a two-way ANOVA using Python to determine if there are any main effects or interaction effects between the software programs and employee experience level (novice vs. experienced). Report the F-statistics and p-values, and interpret the results."
   ]
  },
  {
   "cell_type": "code",
   "execution_count": 6,
   "id": "4069b148-04d5-4077-ad33-806a0214562f",
   "metadata": {},
   "outputs": [
    {
     "name": "stdout",
     "output_type": "stream",
     "text": [
      "                               sum_sq    df         F    PR(>F)\n",
      "C(Software)                  4.600606   2.0  0.532542  0.589080\n",
      "C(Experience)                1.359515   1.0  0.314741  0.576279\n",
      "C(Software):C(Experience)   15.102201   2.0  1.748150  0.180369\n",
      "Residual                   362.836289  84.0       NaN       NaN\n"
     ]
    }
   ],
   "source": [
    "import numpy as np\n",
    "import pandas as pd\n",
    "import statsmodels.api as sm\n",
    "from statsmodels.formula.api import ols\n",
    "\n",
    "# Generate sample data\n",
    "np.random.seed(0)\n",
    "\n",
    "# Software programs\n",
    "software = np.random.choice(['A', 'B', 'C'], size=90)\n",
    "\n",
    "# Employee experience level\n",
    "experience = np.random.choice(['Novice', 'Experienced'], size=90)\n",
    "\n",
    "# Task completion time\n",
    "time = np.random.normal(loc=10, scale=2, size=90)  # Assuming normal distribution with mean 10 and standard deviation 2\n",
    "\n",
    "# Create DataFrame\n",
    "data = pd.DataFrame({'Software': software, 'Experience': experience, 'Time': time})\n",
    "\n",
    "# Fit two-way ANOVA model\n",
    "model = ols('Time ~ C(Software) + C(Experience) + C(Software):C(Experience)', data=data).fit()\n",
    "anova_table = sm.stats.anova_lm(model, typ=2)\n",
    "\n",
    "# Report results\n",
    "print(anova_table)\n"
   ]
  },
  {
   "cell_type": "markdown",
   "id": "4a29ecb7-02ad-410f-b624-36db6fd4e603",
   "metadata": {},
   "source": [
    "### Q11. An educational researcher is interested in whether a new teaching method improves student test scores. They randomly assign 100 students to either the control group (traditional teaching method) or the experimental group (new teaching method) and administer a test at the end of the semester. Conduct a two-sample t-test using Python to determine if there are any significant differences in test scores between the two groups. If the results are significant, follow up with a post-hoc test to determine which group(s) differ significantly from each other."
   ]
  },
  {
   "cell_type": "code",
   "execution_count": 10,
   "id": "d3104daf-1212-4d2b-999d-b1cdbfd48b47",
   "metadata": {},
   "outputs": [
    {
     "name": "stdout",
     "output_type": "stream",
     "text": [
      "Two-sample t-test:\n",
      "t-statistic: -3.597192759749614\n",
      "p-value: 0.0004062796020362504\n",
      "\n",
      "Post-hoc test (Tukey's HSD):\n",
      "   Multiple Comparison of Means - Tukey HSD, FWER=0.05   \n",
      "=========================================================\n",
      " group1    group2    meandiff p-adj  lower  upper  reject\n",
      "---------------------------------------------------------\n",
      "Control Experimental    5.222 0.0004 2.3593 8.0848   True\n",
      "---------------------------------------------------------\n"
     ]
    }
   ],
   "source": [
    "import numpy as np\n",
    "from scipy.stats import ttest_ind\n",
    "from statsmodels.stats.multicomp import pairwise_tukeyhsd\n",
    "\n",
    "# Generate sample data\n",
    "np.random.seed(0)\n",
    "control_group = np.random.normal(loc=75, scale=10, size=100)  # Control group (traditional teaching method)\n",
    "experimental_group = np.random.normal(loc=80, scale=10, size=100)  # Experimental group (new teaching method)\n",
    "\n",
    "# Perform two-sample t-test\n",
    "t_statistic, p_value = ttest_ind(control_group, experimental_group)\n",
    "\n",
    "# Report results of t-test\n",
    "print(\"Two-sample t-test:\")\n",
    "print(\"t-statistic:\", t_statistic)\n",
    "print(\"p-value:\", p_value)\n",
    "\n",
    "# Perform post-hoc test (Tukey's HSD) if the results are significant\n",
    "if p_value < 0.05:\n",
    "    print(\"\\nPost-hoc test (Tukey's HSD):\")\n",
    "    data = np.concatenate([control_group, experimental_group])\n",
    "    groups = ['Control'] * len(control_group) + ['Experimental'] * len(experimental_group)\n",
    "    tukey_results = pairwise_tukeyhsd(data, groups)\n",
    "    print(tukey_results)\n",
    "else:\n",
    "    print(\"\\nNo significant difference found between the two groups.\")\n"
   ]
  },
  {
   "cell_type": "markdown",
   "id": "c0751e3c-999f-4df5-9013-0a372cd2d33a",
   "metadata": {},
   "source": [
    "### Q12. A researcher wants to know if there are any significant differences in the average daily sales of three retail stores: Store A, Store B, and Store C. They randomly select 30 days and record the sales for each store on those days. Conduct a repeated measures ANOVA using Python to determine if there are any significant differences in sales between the three stores. If the results are significant, follow up with a post-hoc test to determine which store(s) differ significantly from each other."
   ]
  },
  {
   "cell_type": "code",
   "execution_count": 21,
   "id": "56041fb1-f64b-43a1-b5ae-35480b4fe751",
   "metadata": {},
   "outputs": [
    {
     "name": "stdout",
     "output_type": "stream",
     "text": [
      "One-way ANOVA:\n",
      "F-statistic: 0.751995907371091\n",
      "p-value: 0.474463832909494\n",
      "\n",
      "No significant difference found between the three stores.\n"
     ]
    }
   ],
   "source": [
    "import numpy as np\n",
    "import pandas as pd\n",
    "from scipy.stats import f_oneway\n",
    "from statsmodels.stats.multicomp import pairwise_tukeyhsd\n",
    "\n",
    "# Generate sample data\n",
    "np.random.seed(0)\n",
    "sales_store_A = np.random.randint(1000, 2000, size=30)  # Daily sales for Store A\n",
    "sales_store_B = np.random.randint(900, 1900, size=30)   # Daily sales for Store B\n",
    "sales_store_C = np.random.randint(1100, 2100, size=30)  # Daily sales for Store C\n",
    "\n",
    "# Combine data into a DataFrame\n",
    "data = pd.DataFrame({\n",
    "    'Sales': np.concatenate([sales_store_A, sales_store_B, sales_store_C]),\n",
    "    'Store': np.repeat(['A', 'B', 'C'], 30)\n",
    "})\n",
    "\n",
    "# Perform one-way ANOVA\n",
    "f_statistic, p_value = f_oneway(sales_store_A, sales_store_B, sales_store_C)\n",
    "\n",
    "# Report results of one-way ANOVA\n",
    "print(\"One-way ANOVA:\")\n",
    "print(\"F-statistic:\", f_statistic)\n",
    "print(\"p-value:\", p_value)\n",
    "\n",
    "# Perform post-hoc test (Tukey's HSD) if the results are significant\n",
    "if p_value < 0.05:\n",
    "    print(\"\\nPost-hoc test (Tukey's HSD):\")\n",
    "    tukey_results = pairwise_tukeyhsd(data['Sales'], data['Store'])\n",
    "    print(tukey_results)\n",
    "else:\n",
    "    print(\"\\nNo significant difference found between the three stores.\")\n"
   ]
  },
  {
   "cell_type": "code",
   "execution_count": null,
   "id": "95fd22fb-ee7f-40bd-bb0b-20ee6acbb36e",
   "metadata": {},
   "outputs": [],
   "source": []
  }
 ],
 "metadata": {
  "kernelspec": {
   "display_name": "Python 3 (ipykernel)",
   "language": "python",
   "name": "python3"
  },
  "language_info": {
   "codemirror_mode": {
    "name": "ipython",
    "version": 3
   },
   "file_extension": ".py",
   "mimetype": "text/x-python",
   "name": "python",
   "nbconvert_exporter": "python",
   "pygments_lexer": "ipython3",
   "version": "3.10.8"
  }
 },
 "nbformat": 4,
 "nbformat_minor": 5
}
